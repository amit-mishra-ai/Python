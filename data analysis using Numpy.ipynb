{
 "cells": [
  {
   "cell_type": "code",
   "execution_count": 1,
   "id": "769f6825-e257-4a6c-a597-20a843689f7a",
   "metadata": {},
   "outputs": [],
   "source": [
    "import numpy as np\n",
    "\n",
    "# Monthly sales data (in ₹ thousands)\n",
    "product_A = np.array([45, 50, 55, 60, 58, 62, 68, 70, 75, 78, 80, 85])\n",
    "product_B = np.array([30, 35, 40, 38, 42, 47, 52, 50, 55, 60, 63, 65])\n",
    "\n",
    "months = np.arange(1, 13)  # Months 1 to 12"
   ]
  },
  {
   "cell_type": "code",
   "execution_count": 2,
   "id": "04605c55-21e3-4cfd-8bc9-76b57065ea9c",
   "metadata": {},
   "outputs": [
    {
     "name": "stdout",
     "output_type": "stream",
     "text": [
      "Average Sales A: 65.5\n",
      "Average Sales B: 48.083333333333336\n",
      "Total Sales A: 786\n",
      "Total Sales B: 577\n",
      "Max/Min Sales A: 85 / 45\n",
      "Max/Min Sales B: 65 / 30\n"
     ]
    }
   ],
   "source": [
    "# Mean (average) sales\n",
    "mean_A = np.mean(product_A)\n",
    "mean_B = np.mean(product_B)\n",
    "\n",
    "# Total sales in the year\n",
    "total_A = np.sum(product_A)\n",
    "total_B = np.sum(product_B)\n",
    "\n",
    "# Highest and lowest sales\n",
    "max_A, min_A = np.max(product_A), np.min(product_A)\n",
    "max_B, min_B = np.max(product_B), np.min(product_B)\n",
    "\n",
    "print(\"Average Sales A:\", mean_A)\n",
    "print(\"Average Sales B:\", mean_B)\n",
    "print(\"Total Sales A:\", total_A)\n",
    "print(\"Total Sales B:\", total_B)\n",
    "print(\"Max/Min Sales A:\", max_A, \"/\", min_A)\n",
    "print(\"Max/Min Sales B:\", max_B, \"/\", min_B)\n"
   ]
  },
  {
   "cell_type": "code",
   "execution_count": 3,
   "id": "50ea8f8d-0b0d-410b-815c-fcf4701f6514",
   "metadata": {},
   "outputs": [
    {
     "name": "stdout",
     "output_type": "stream",
     "text": [
      "Monthly Growth % for A: [11.11 10.    9.09 -3.33  6.9   9.68  2.94  7.14  4.    2.56  6.25]\n",
      "Monthly Growth % for B: [16.67 14.29 -5.   10.53 11.9  10.64 -3.85 10.    9.09  5.    3.17]\n"
     ]
    }
   ],
   "source": [
    "growth_A = np.diff(product_A) / product_A[:-1] * 100\n",
    "growth_B = np.diff(product_B) / product_B[:-1] * 100\n",
    "\n",
    "print(\"Monthly Growth % for A:\", np.round(growth_A, 2))\n",
    "print(\"Monthly Growth % for B:\", np.round(growth_B, 2))"
   ]
  },
  {
   "cell_type": "code",
   "execution_count": 4,
   "id": "e32582d5-fd01-48be-a135-f625ec088424",
   "metadata": {},
   "outputs": [
    {
     "name": "stdout",
     "output_type": "stream",
     "text": [
      "Months where A dropped: (array([3]),)\n",
      "Months where B dropped: (array([2, 6]),)\n"
     ]
    }
   ],
   "source": [
    "# Where growth is negative\n",
    "drop_A = np.where(growth_A < 0)\n",
    "drop_B = np.where(growth_B < 0)\n",
    "\n",
    "print(\"Months where A dropped:\", drop_A)\n",
    "print(\"Months where B dropped:\", drop_B)\n"
   ]
  },
  {
   "cell_type": "code",
   "execution_count": 5,
   "id": "3fb7e3f4-e52e-4553-9a00-ebd5b7e48d89",
   "metadata": {},
   "outputs": [
    {
     "name": "stdout",
     "output_type": "stream",
     "text": [
      "Correlation between A and B: 0.98\n"
     ]
    }
   ],
   "source": [
    "corr = np.corrcoef(product_A, product_B)[0,1]\n",
    "print(\"Correlation between A and B:\", round(corr, 2))\n"
   ]
  },
  {
   "cell_type": "code",
   "execution_count": 6,
   "id": "12894f45-cd10-42b4-bd93-ffd151230d4c",
   "metadata": {},
   "outputs": [
    {
     "name": "stdout",
     "output_type": "stream",
     "text": [
      "Forecasted Sales (A) for Next Year:\n",
      "[ 89.66  96.11 102.69 109.92 115.7  125.4  138.38 145.89 149.17 159.62\n",
      " 170.14 182.68]\n"
     ]
    }
   ],
   "source": [
    "mean_growth_A = np.mean(growth_A)\n",
    "simulated_growth = np.random.normal(mean_growth_A, 2, 12)  # 12 months, small variance\n",
    "\n",
    "forecast = product_A[-1] * (1 + simulated_growth / 100).cumprod()\n",
    "print(\"Forecasted Sales (A) for Next Year:\")\n",
    "print(np.round(forecast, 2))\n"
   ]
  },
  {
   "cell_type": "code",
   "execution_count": null,
   "id": "03a1121f-0763-4a07-8f74-a5dac1aaa6d3",
   "metadata": {},
   "outputs": [],
   "source": []
  }
 ],
 "metadata": {
  "kernelspec": {
   "display_name": "Python 3 (ipykernel)",
   "language": "python",
   "name": "python3"
  },
  "language_info": {
   "codemirror_mode": {
    "name": "ipython",
    "version": 3
   },
   "file_extension": ".py",
   "mimetype": "text/x-python",
   "name": "python",
   "nbconvert_exporter": "python",
   "pygments_lexer": "ipython3",
   "version": "3.13.5"
  }
 },
 "nbformat": 4,
 "nbformat_minor": 5
}
